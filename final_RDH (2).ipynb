{
  "nbformat": 4,
  "nbformat_minor": 0,
  "metadata": {
    "colab": {
      "provenance": []
    },
    "kernelspec": {
      "name": "python3",
      "display_name": "Python 3"
    },
    "language_info": {
      "name": "python"
    }
  },
  "cells": [
    {
      "cell_type": "markdown",
      "source": [
        "## *Proposed RDH scheme through encryption*"
      ],
      "metadata": {
        "id": "lPSBOBuf9MKP"
      }
    },
    {
      "cell_type": "markdown",
      "source": [
        "connecting gdrive to gcollab"
      ],
      "metadata": {
        "id": "bvjPUzNV9nkG"
      }
    },
    {
      "cell_type": "code",
      "execution_count": null,
      "metadata": {
        "colab": {
          "base_uri": "https://localhost:8080/"
        },
        "id": "v-PYV6MQ9H7J",
        "outputId": "5b09d479-563d-4779-f981-e74b7823818e"
      },
      "outputs": [
        {
          "output_type": "stream",
          "name": "stdout",
          "text": [
            "Drive already mounted at /content/drive; to attempt to forcibly remount, call drive.mount(\"/content/drive\", force_remount=True).\n"
          ]
        }
      ],
      "source": [
        "from google.colab import drive\n",
        "drive.mount('/content/drive')\n"
      ]
    },
    {
      "cell_type": "markdown",
      "source": [
        "Divide the given Image I into non overlapping blocks of size 9x9 pixels"
      ],
      "metadata": {
        "id": "G-jQXlQh-ecz"
      }
    },
    {
      "cell_type": "code",
      "source": [
        "import os\n",
        "import numpy as np\n",
        "from PIL import Image\n",
        "\n",
        "# Directory containing the original images\n",
        "original_images_dir = '/content/drive/MyDrive/DRDO/original image'\n",
        "# Directory to save the original image in blocks\n",
        "original_image_blocks_dir = '/content/drive/MyDrive/DRDO/original image blocks'\n",
        "\n",
        "# Create the original image in blocks directory if it doesn't exist\n",
        "os.makedirs(original_image_blocks_dir, exist_ok=True)\n",
        "\n",
        "# Set the block size (e.g., 9x9)\n",
        "block_size = (9, 9)\n",
        "\n",
        "\n",
        "# Iterate through the original images\n",
        "for filename in os.listdir(original_images_dir):\n",
        "    # Open the original image\n",
        "    image_path = os.path.join(original_images_dir, filename)\n",
        "    original_image = Image.open(image_path)\n",
        "\n",
        "    # Convert the image to grayscale\n",
        "    grayscale_image = original_image.convert('L')\n",
        "\n",
        "    # Split the grayscale image into blocks\n",
        "    image_width, image_height = grayscale_image.size\n",
        "    num_blocks_x = image_width // block_size[0]\n",
        "    num_blocks_y = image_height // block_size[1]\n",
        "\n",
        "    \n",
        "    # save each image block\n",
        "    for i in range(num_blocks_x):\n",
        "        for j in range(num_blocks_y):\n",
        "            # Extract the image block\n",
        "            left = i * block_size[0]\n",
        "            top = j * block_size[1]\n",
        "            right = left + block_size[0]\n",
        "            bottom = top + block_size[1]\n",
        "            image_block = grayscale_image.crop((left, top, right, bottom))\n",
        "\n",
        "            # Encrypt the image block\n",
        "            # encrypted_block = encryption(image_block,4)\n",
        "\n",
        "            # Save the encrypted block with a unique filename\n",
        "            block_filename = f\"{filename}_block_{i}_{j}.jpg\"\n",
        "            block_path = os.path.join(original_image_blocks_dir, block_filename)\n",
        "\n",
        "            image_block.save(block_path)\n",
        "            \n",
        "\n",
        "    print(f\"Img is converted into blocks created for {filename}\")\n"
      ],
      "metadata": {
        "colab": {
          "base_uri": "https://localhost:8080/"
        },
        "id": "5_OXI_HeDnaY",
        "outputId": "790c3d84-ea6e-4920-b39c-cac8cd8c045a"
      },
      "execution_count": null,
      "outputs": [
        {
          "output_type": "stream",
          "name": "stdout",
          "text": [
            "Img is converted into blocks created for gr.png\n"
          ]
        }
      ]
    },
    {
      "cell_type": "markdown",
      "source": [
        "Now original image is converted into blocks and saved into *original image block* directory\n",
        "\n",
        "After that our task is to initialize a matrix E of size MxN with zeros\n",
        "instead of doing this, we'll create another directory ie the copy of 'original image block' and in that we'll do further process of encryption"
      ],
      "metadata": {
        "id": "LsGcZPZ4KmF4"
      }
    },
    {
      "cell_type": "markdown",
      "source": [
        "creating E as E_block by copying blocks to E_block in which we'll encrypt data"
      ],
      "metadata": {
        "id": "u2nJ718fLof2"
      }
    },
    {
      "cell_type": "code",
      "source": [
        "import shutil\n",
        "\n",
        "# Specify the source and destination directories\n",
        "source_directory = '/content/drive/MyDrive/DRDO/original image blocks'\n",
        "destination_directory = '/content/drive/MyDrive/DRDO/E_blocks'\n",
        "\n",
        "# Create the destination directory if it doesn't exist\n",
        "if not os.path.exists(destination_directory):\n",
        "    os.makedirs(destination_directory)\n",
        "\n",
        "# Iterate over the files in the source directory\n",
        "for filename in os.listdir(source_directory):\n",
        "    source_file = os.path.join(source_directory, filename)\n",
        "    destination_file = os.path.join(destination_directory, filename)\n",
        "    \n",
        "    # Copy the file from the source directory to the destination directory\n",
        "    shutil.copy2(source_file, destination_file)\n",
        "\n",
        "print(\"Files copied successfully.\")"
      ],
      "metadata": {
        "colab": {
          "base_uri": "https://localhost:8080/"
        },
        "id": "_fP0i7199r_j",
        "outputId": "f803877a-18de-4a29-81be-3327705c7131"
      },
      "execution_count": null,
      "outputs": [
        {
          "output_type": "stream",
          "name": "stdout",
          "text": [
            "Files copied successfully.\n"
          ]
        }
      ]
    },
    {
      "cell_type": "markdown",
      "source": [
        "Now the next task is to find the pseudo random integer sequence R using data hiding key H. \n",
        "here we are taking value is H=11\n",
        " \n",
        "So for finding pseudo random integer no of blocks(B) generated is also required\n",
        "so firest we'll calculate value of B"
      ],
      "metadata": {
        "id": "yXg6cNxHMFaE"
      }
    },
    {
      "cell_type": "markdown",
      "source": [
        "Calculating value of B"
      ],
      "metadata": {
        "id": "SFHhM0W_M8p8"
      }
    },
    {
      "cell_type": "code",
      "source": [
        "import glob\n",
        "\n",
        "# Specify the directory path\n",
        "directory_path = '/content/drive/MyDrive/DRDO/original image blocks'\n",
        "\n",
        "# Use the glob function to search for image files in the directory\n",
        "image_files = glob.glob(os.path.join(directory_path, '*.jpg'))\n",
        "\n",
        "# Get the count of image files\n",
        "num_images = len(image_files)\n",
        "\n",
        "# Print the number of images\n",
        "B= num_images\n"
      ],
      "metadata": {
        "id": "4n7QtqzUMW7k"
      },
      "execution_count": null,
      "outputs": []
    },
    {
      "cell_type": "markdown",
      "source": [
        "Now we'll calculate pseudo Random generated Integer (R) using data hiding key and B"
      ],
      "metadata": {
        "id": "qOE3HmqfNPu1"
      }
    },
    {
      "cell_type": "code",
      "source": [
        "def generate_R(data_hiding_key, length):\n",
        "    # Set the seed for the random number generator using the data hiding key\n",
        "    np.random.seed(int.from_bytes(data_hiding_key.encode(), 'big'))\n",
        "    \n",
        "    # Generate the pseudo-random integer sequence R using the random number generator\n",
        "    R = np.random.randint(low=0, high=B, size=length, dtype=np.uint8)\n",
        "    \n",
        "    return R\n",
        "\n",
        "\n",
        "H= 11\n",
        "R= generate_R('11', B)    \n",
        "print(B)\n",
        "print(R)"
      ],
      "metadata": {
        "colab": {
          "base_uri": "https://localhost:8080/"
        },
        "id": "u7XnahvZNeEf",
        "outputId": "48cedb40-09d5-4ade-d511-bf1f7c7e79d7"
      },
      "execution_count": null,
      "outputs": [
        {
          "output_type": "stream",
          "name": "stdout",
          "text": [
            "15\n",
            "[ 6  6 11  3  8  2  8  6  7  8  7 12  3  4  3]\n"
          ]
        }
      ]
    },
    {
      "cell_type": "markdown",
      "source": [
        "Initialize msg bit which will be further used for hiding\n"
      ],
      "metadata": {
        "id": "rrAdFRqMN_YD"
      }
    },
    {
      "cell_type": "code",
      "source": [
        "D= [1,1,0,1,0]\n",
        "l= len(D)"
      ],
      "metadata": {
        "id": "XzSXAxs9OIk9"
      },
      "execution_count": null,
      "outputs": []
    },
    {
      "cell_type": "markdown",
      "source": [
        "## Looping starts for Encryption"
      ],
      "metadata": {
        "id": "mE3ShgRgN1hp"
      }
    },
    {
      "cell_type": "markdown",
      "source": [
        "Encryption function"
      ],
      "metadata": {
        "id": "MmqjDrNdgz97"
      }
    },
    {
      "cell_type": "code",
      "source": [
        "# ENCRYPTION FUNCTION\n",
        "def encryption(path, key):\n",
        "  fin=open(path,'rb')\n",
        "  imagee= fin.read()\n",
        "  fin.close()\n",
        "  image= bytearray(imagee)\n",
        "  for index,values in enumerate(image):\n",
        "    image[index]= values^ key\n",
        "  fin= open(path, 'wb')\n",
        "  fin.write(imagee)\n",
        "  fin.close()\n",
        "  print(\"Encryption Done...\")\n",
        "  # return image"
      ],
      "metadata": {
        "id": "dF96Xp23N51A"
      },
      "execution_count": null,
      "outputs": []
    },
    {
      "cell_type": "markdown",
      "source": [
        "Creating array of paths of original image blocks and Encrypted blocks ie E_Block\n",
        "as blocks_paths and E_blocks_paths"
      ],
      "metadata": {
        "id": "PKJGix12g706"
      }
    },
    {
      "cell_type": "code",
      "source": [
        "# array of paths of blocks\n",
        "# import os\n",
        "\n",
        "# Specify the directory path\n",
        "blocks = '/content/drive/MyDrive/DRDO/original image blocks'\n",
        "\n",
        "# Initialize an empty list to store the image file paths\n",
        "blocks_paths = []\n",
        "\n",
        "# Iterate over the files in the directory\n",
        "for filename in os.listdir(blocks):\n",
        "    if filename.endswith('.jpg') or filename.endswith('.png'):\n",
        "        # Construct the file path and append it to the list\n",
        "        image_path = os.path.join(blocks, filename)\n",
        "        blocks_paths.append(image_path)\n",
        "\n",
        "\n",
        "# array of paths of E_blocks\n",
        "\n",
        "# Specify the directory path\n",
        "E_blocks = '/content/drive/MyDrive/DRDO/E_blocks'\n",
        "\n",
        "# Initialize an empty list to store the image file paths\n",
        "E_blocks_paths = []\n",
        "\n",
        "# Iterate over the files in the directory\n",
        "for filename in os.listdir(E_blocks):\n",
        "    if filename.endswith('.jpg') or filename.endswith('.png'):\n",
        "        # Construct the file path and append it to the list\n",
        "        image_path = os.path.join(E_blocks, filename)\n",
        "        E_blocks_paths.append(image_path)\n"
      ],
      "metadata": {
        "id": "-fzBQNVNhHMA"
      },
      "execution_count": null,
      "outputs": []
    },
    {
      "cell_type": "markdown",
      "source": [
        "Replacement code to replace the image in E_block with new encrypted image"
      ],
      "metadata": {
        "id": "E2GB9fhnh51S"
      }
    },
    {
      "cell_type": "code",
      "source": [
        "# REPLACEMENT CODE \n",
        "import os\n",
        "import shutil\n",
        "\n",
        "\n",
        "def replacement(pos):\n",
        "  # Specify the source and destination directories\n",
        "  source_directory = '/content/drive/MyDrive/DRDO/original image blocks'\n",
        "  destination_directory = '/content/drive/MyDrive/DRDO/E_blocks'\n",
        "\n",
        "  # Get the list of files in the source directory\n",
        "  files = os.listdir(source_directory)\n",
        "\n",
        "  # Check if both directories contain at least 5 files\n",
        "  if len(files) >= pos and len(os.listdir(destination_directory)) >= pos:\n",
        "      # Get the paths of the images at the 5th position\n",
        "      source_image_path = os.path.join(source_directory, files[pos-1])\n",
        "      destination_image_path = os.path.join(destination_directory, os.listdir(destination_directory)[pos])\n",
        "\n",
        "      # Replace the image\n",
        "      shutil.copy2(source_image_path, destination_image_path)\n",
        "      print(\"Image replaced successfully.\")\n",
        "  else:\n",
        "      print(\"Both directories should contain at least 5 files.\")\n"
      ],
      "metadata": {
        "id": "Bpv9HS1nh49N"
      },
      "execution_count": null,
      "outputs": []
    },
    {
      "cell_type": "markdown",
      "source": [
        "Looping..."
      ],
      "metadata": {
        "id": "z9E44DqEiD0Y"
      }
    },
    {
      "cell_type": "code",
      "source": [
        "k1= 4\n",
        "k2= 5\n",
        "k3= 6\n",
        "\n",
        "for x in range(0,l):\n",
        "  v= R[x]\n",
        "  # print(v)\n",
        "  # C= image_blocks_path[v]\n",
        "  C= blocks_paths[v]\n",
        "  \n",
        "  if(D[x]==1):\n",
        "    encryption(C, k1)\n",
        "    # copy the image at present at C after encryption to E_blocks[v]\n",
        "    replacement(v)\n",
        "\n",
        "  else:\n",
        "    encryption(C, k2)\n",
        "    # copy the image at present at C after encryption to E_blocks[v]\n",
        "    replacement(v)\n",
        "\n",
        "for x in range(l, B):\n",
        "  v= R[x]\n",
        "  C= blocks_paths[v]\n",
        "\n",
        "  encryption(C, k3) \n",
        "  # copy the image at present at C after encryption to E_blocks[v]\n",
        "  replacement(v) \n"
      ],
      "metadata": {
        "colab": {
          "base_uri": "https://localhost:8080/"
        },
        "id": "t0APZQRWiE2Y",
        "outputId": "00c31906-7c83-4dbc-f81c-79fbbecf78e6"
      },
      "execution_count": null,
      "outputs": [
        {
          "output_type": "stream",
          "name": "stdout",
          "text": [
            "Encryption Done...\n",
            "Image replaced successfully.\n",
            "Encryption Done...\n",
            "Image replaced successfully.\n",
            "Encryption Done...\n",
            "Image replaced successfully.\n",
            "Encryption Done...\n",
            "Image replaced successfully.\n",
            "Encryption Done...\n",
            "Image replaced successfully.\n",
            "Encryption Done...\n",
            "Image replaced successfully.\n",
            "Encryption Done...\n",
            "Image replaced successfully.\n",
            "Encryption Done...\n",
            "Image replaced successfully.\n",
            "Encryption Done...\n",
            "Image replaced successfully.\n",
            "Encryption Done...\n",
            "Image replaced successfully.\n",
            "Encryption Done...\n",
            "Image replaced successfully.\n",
            "Encryption Done...\n",
            "Image replaced successfully.\n",
            "Encryption Done...\n",
            "Image replaced successfully.\n",
            "Encryption Done...\n",
            "Image replaced successfully.\n",
            "Encryption Done...\n",
            "Image replaced successfully.\n"
          ]
        }
      ]
    },
    {
      "cell_type": "markdown",
      "source": [
        "Now we have completed encryption process and also replaced it in E_block directory\n",
        "\n",
        "in our case both original image block and E_block is encrypted"
      ],
      "metadata": {
        "id": "DhbmIdDhitu7"
      }
    },
    {
      "cell_type": "markdown",
      "source": [
        "copy the image at present at C after encryption to E_blocks[v]\n",
        "Defining and Encrypting rest of region  ie Ar region defination\n",
        "\n",
        "return E\n",
        "in this case we'll try to merge all the images of E_block and make a complete one Encrypted image"
      ],
      "metadata": {
        "id": "SuOPA7PhjDwl"
      }
    },
    {
      "cell_type": "code",
      "source": [
        "# Merge all blocks of E_block to make a image\n",
        "import cv2\n",
        "import numpy as np\n",
        "\n",
        "# List of block paths\n",
        "block_paths = E_blocks_paths\n",
        "# Create an empty list to store the image blocks\n",
        "image_blocks = []\n",
        "\n",
        "# Load and append each image block to the list\n",
        "for block_path in block_paths:\n",
        "    image_block = cv2.imread(block_path)\n",
        "    image_blocks.append(image_block)\n",
        "\n",
        "# Combine the image blocks into a single image\n",
        "merged_image = np.concatenate(image_blocks, axis=1)\n",
        "\n",
        "# # Display or save the merged image\n",
        "# cv2.imshow(\"Merged Image\", merged_image)\n",
        "# cv2.waitKey(0)\n",
        "# cv2.destroyAllWindows()\n",
        "\n",
        "# merged_image"
      ],
      "metadata": {
        "id": "vt0Ma59Ei7d4"
      },
      "execution_count": null,
      "outputs": []
    },
    {
      "cell_type": "markdown",
      "source": [
        "Now we have got final merged image of all the encrypted block which is denoted by **merged_image**. now this merged image is sent to reciever and then further decryption process will occur. Before that SVM model will be required which will be used to classify if the image block is encrypted or not"
      ],
      "metadata": {
        "id": "2sBkVod0rgI4"
      }
    },
    {
      "cell_type": "markdown",
      "source": [
        "## SVM Model training"
      ],
      "metadata": {
        "id": "eUzANPBuu4mM"
      }
    },
    {
      "cell_type": "markdown",
      "source": [
        "So to train model we need data set of both encrypted and non encrypted images. \n",
        "for that we'll collect 10-15 grayscale images for non encrypted image dataset and then encrypt it to make encrypted dataset.  \n",
        "we'll use the same encryption technique that we use in encryption process"
      ],
      "metadata": {
        "id": "laut0Ka6E1vO"
      }
    },
    {
      "cell_type": "markdown",
      "source": [
        "**Creating Encrypted image dataset**"
      ],
      "metadata": {
        "id": "eO30FiOhF0Eo"
      }
    },
    {
      "cell_type": "code",
      "source": [
        "import os\n",
        "import numpy as np\n",
        "from PIL import Image\n",
        "\n",
        "# Function to perform pixel scrambling encryption on an image block\n",
        "def encrypt_image_block(image_block):\n",
        "    # Convert the image block to a numpy array\n",
        "    block_array = np.array(image_block)\n",
        "\n",
        "    # Get the shape of the block\n",
        "    height, width = block_array.shape[:2]\n",
        "\n",
        "    # Flatten the block into a 1D array\n",
        "    flattened_block = block_array.flatten()\n",
        "\n",
        "    # Randomly shuffle the pixel values\n",
        "    np.random.shuffle(flattened_block)\n",
        "\n",
        "    # Reshape the flattened block back to its original shape\n",
        "    encrypted_block = flattened_block.reshape((height, width))\n",
        "\n",
        "    # Convert the encrypted block back to PIL Image\n",
        "    encrypted_image_block = Image.fromarray(encrypted_block)\n",
        "\n",
        "    return encrypted_image_block\n",
        "\n",
        "\n",
        "# Directory containing the original images\n",
        "original_images_dir = '/content/drive/MyDrive/DRDO/normal image'\n",
        "\n",
        "# Directory to save the encrypted image blocks\n",
        "encrypted_images_dir = '/content/drive/MyDrive/DRDO/encrypted image'\n",
        "\n",
        "# Create the encrypted blocks directory if it doesn't exist\n",
        "os.makedirs(encrypted_images_dir, exist_ok=True)\n",
        "\n",
        "# Set the block size (e.g., 9x9)\n",
        "block_size = (9, 9)\n",
        "\n",
        "# Iterate through the original images\n",
        "for filename in os.listdir(original_images_dir):\n",
        "    # Open the original image\n",
        "    image_path = os.path.join(original_images_dir, filename)\n",
        "    original_image = Image.open(image_path)\n",
        "\n",
        "    # Convert the image to grayscale\n",
        "    grayscale_image = original_image.convert('L')\n",
        "\n",
        "    # Split the grayscale image into blocks\n",
        "    image_width, image_height = grayscale_image.size\n",
        "    num_blocks_x = image_width // block_size[0]\n",
        "    num_blocks_y = image_height // block_size[1]\n",
        "\n",
        "\n",
        "    # Encrypt and save each image block\n",
        "    for i in range(num_blocks_x):\n",
        "        for j in range(num_blocks_y):\n",
        "            # Extract the image block\n",
        "            left = i * block_size[0]\n",
        "            top = j * block_size[1]\n",
        "            right = left + block_size[0]\n",
        "            bottom = top + block_size[1]\n",
        "            image_block = grayscale_image.crop((left, top, right, bottom))\n",
        "\n",
        "            # Encrypt the image block\n",
        "            encrypted_block = encrypt_image_block(image_block)\n",
        "\n",
        "            # Save the encrypted block with a unique filename\n",
        "            block_filename = f\"{filename}_block_{i}_{j}.jpg\"\n",
        "            block_path = os.path.join(encrypted_images_dir, block_filename)\n",
        "            encrypted_block.save(block_path)\n",
        "            \n",
        "\n",
        "    print(f\"Encrypted blocks created for {filename}\")\n"
      ],
      "metadata": {
        "colab": {
          "base_uri": "https://localhost:8080/"
        },
        "id": "o3f_OzrlF1H-",
        "outputId": "2a0446b0-0bfc-489e-94cb-a5b09f82a559"
      },
      "execution_count": null,
      "outputs": [
        {
          "output_type": "stream",
          "name": "stdout",
          "text": [
            "Encrypted blocks created for 2.jpg\n",
            "Encrypted blocks created for 3.jpg\n",
            "Encrypted blocks created for 4.jpg\n",
            "Encrypted blocks created for 5.jpg\n",
            "Encrypted blocks created for 1.jpg\n",
            "Encrypted blocks created for 6.jpg\n",
            "Encrypted blocks created for 7.jpg\n",
            "Encrypted blocks created for 8.jpg\n",
            "Encrypted blocks created for 9.jpg\n",
            "Encrypted blocks created for 10.jpg\n"
          ]
        }
      ]
    },
    {
      "cell_type": "markdown",
      "source": [
        "# Creating non encrypted Image blocks"
      ],
      "metadata": {
        "id": "t_Cmf-iWstcp"
      }
    },
    {
      "cell_type": "code",
      "source": [
        "import os\n",
        "from PIL import Image\n",
        "\n",
        "# Directory containing the original images\n",
        "original_images_dir = '/content/drive/MyDrive/DRDO//normal image'\n",
        "\n",
        "# Directory to save the non-encrypted image blocks\n",
        "non_encrypted_blocks_dir = '/content/drive/MyDrive/DRDO/non encrypted image blocks'\n",
        "\n",
        "# Create the non-encrypted blocks directory if it doesn't exist\n",
        "os.makedirs(non_encrypted_blocks_dir, exist_ok=True)\n",
        "\n",
        "# Set the block size (e.g., 32x32)\n",
        "block_size = (9, 9)\n",
        "\n",
        "# Iterate through the original images\n",
        "for filename in os.listdir(original_images_dir):\n",
        "    # Open the original image\n",
        "    image_path = os.path.join(original_images_dir, filename)\n",
        "    original_image = Image.open(image_path)\n",
        "\n",
        "    # Convert the image to grayscale\n",
        "    grayscale_image = original_image.convert('L')\n",
        "\n",
        "    # Split the grayscale image into blocks\n",
        "    image_width, image_height = grayscale_image.size\n",
        "    num_blocks_x = image_width // block_size[0]\n",
        "    num_blocks_y = image_height // block_size[1]\n",
        "\n",
        "    # Extract and save each image block\n",
        "    for i in range(num_blocks_x):\n",
        "        for j in range(num_blocks_y):\n",
        "            # Extract the image block\n",
        "            left = i * block_size[0]\n",
        "            top = j * block_size[1]\n",
        "            right = left + block_size[0]\n",
        "            bottom = top + block_size[1]\n",
        "            image_block = grayscale_image.crop((left, top, right, bottom))\n",
        "\n",
        "            # Save the image block with a unique filename\n",
        "            block_filename = f\"{filename}_block_{i}_{j}.png\"\n",
        "            block_path = os.path.join(non_encrypted_blocks_dir, block_filename)\n",
        "            image_block.save(block_path)\n",
        "\n",
        "    print(f\"Non-encrypted blocks created for {filename}\")\n"
      ],
      "metadata": {
        "colab": {
          "base_uri": "https://localhost:8080/"
        },
        "id": "11JhtYJwr0T4",
        "outputId": "3ec73a5e-28de-47da-b516-51b83f03c4c3"
      },
      "execution_count": null,
      "outputs": [
        {
          "output_type": "stream",
          "name": "stdout",
          "text": [
            "Non-encrypted blocks created for 2.jpg\n",
            "Non-encrypted blocks created for 3.jpg\n"
          ]
        },
        {
          "output_type": "error",
          "ename": "FileNotFoundError",
          "evalue": "ignored",
          "traceback": [
            "\u001b[0;31m---------------------------------------------------------------------------\u001b[0m",
            "\u001b[0;31mFileNotFoundError\u001b[0m                         Traceback (most recent call last)",
            "\u001b[0;32m<ipython-input-13-9a2b79b099e8>\u001b[0m in \u001b[0;36m<cell line: 17>\u001b[0;34m()\u001b[0m\n\u001b[1;32m     41\u001b[0m             \u001b[0mblock_filename\u001b[0m \u001b[0;34m=\u001b[0m \u001b[0;34mf\"{filename}_block_{i}_{j}.png\"\u001b[0m\u001b[0;34m\u001b[0m\u001b[0;34m\u001b[0m\u001b[0m\n\u001b[1;32m     42\u001b[0m             \u001b[0mblock_path\u001b[0m \u001b[0;34m=\u001b[0m \u001b[0mos\u001b[0m\u001b[0;34m.\u001b[0m\u001b[0mpath\u001b[0m\u001b[0;34m.\u001b[0m\u001b[0mjoin\u001b[0m\u001b[0;34m(\u001b[0m\u001b[0mnon_encrypted_blocks_dir\u001b[0m\u001b[0;34m,\u001b[0m \u001b[0mblock_filename\u001b[0m\u001b[0;34m)\u001b[0m\u001b[0;34m\u001b[0m\u001b[0;34m\u001b[0m\u001b[0m\n\u001b[0;32m---> 43\u001b[0;31m             \u001b[0mimage_block\u001b[0m\u001b[0;34m.\u001b[0m\u001b[0msave\u001b[0m\u001b[0;34m(\u001b[0m\u001b[0mblock_path\u001b[0m\u001b[0;34m)\u001b[0m\u001b[0;34m\u001b[0m\u001b[0;34m\u001b[0m\u001b[0m\n\u001b[0m\u001b[1;32m     44\u001b[0m \u001b[0;34m\u001b[0m\u001b[0m\n\u001b[1;32m     45\u001b[0m     \u001b[0mprint\u001b[0m\u001b[0;34m(\u001b[0m\u001b[0;34mf\"Non-encrypted blocks created for {filename}\"\u001b[0m\u001b[0;34m)\u001b[0m\u001b[0;34m\u001b[0m\u001b[0;34m\u001b[0m\u001b[0m\n",
            "\u001b[0;32m/usr/local/lib/python3.10/dist-packages/PIL/Image.py\u001b[0m in \u001b[0;36msave\u001b[0;34m(self, fp, format, **params)\u001b[0m\n\u001b[1;32m   2235\u001b[0m                 \u001b[0mfp\u001b[0m \u001b[0;34m=\u001b[0m \u001b[0mbuiltins\u001b[0m\u001b[0;34m.\u001b[0m\u001b[0mopen\u001b[0m\u001b[0;34m(\u001b[0m\u001b[0mfilename\u001b[0m\u001b[0;34m,\u001b[0m \u001b[0;34m\"r+b\"\u001b[0m\u001b[0;34m)\u001b[0m\u001b[0;34m\u001b[0m\u001b[0;34m\u001b[0m\u001b[0m\n\u001b[1;32m   2236\u001b[0m             \u001b[0;32melse\u001b[0m\u001b[0;34m:\u001b[0m\u001b[0;34m\u001b[0m\u001b[0;34m\u001b[0m\u001b[0m\n\u001b[0;32m-> 2237\u001b[0;31m                 \u001b[0mfp\u001b[0m \u001b[0;34m=\u001b[0m \u001b[0mbuiltins\u001b[0m\u001b[0;34m.\u001b[0m\u001b[0mopen\u001b[0m\u001b[0;34m(\u001b[0m\u001b[0mfilename\u001b[0m\u001b[0;34m,\u001b[0m \u001b[0;34m\"w+b\"\u001b[0m\u001b[0;34m)\u001b[0m\u001b[0;34m\u001b[0m\u001b[0;34m\u001b[0m\u001b[0m\n\u001b[0m\u001b[1;32m   2238\u001b[0m \u001b[0;34m\u001b[0m\u001b[0m\n\u001b[1;32m   2239\u001b[0m         \u001b[0;32mtry\u001b[0m\u001b[0;34m:\u001b[0m\u001b[0;34m\u001b[0m\u001b[0;34m\u001b[0m\u001b[0m\n",
            "\u001b[0;31mFileNotFoundError\u001b[0m: [Errno 2] No such file or directory: '/content/drive/MyDrive/DRDO/non encrypted image blocks/4.jpg_block_12_16.png'"
          ]
        }
      ]
    },
    {
      "cell_type": "markdown",
      "source": [
        "## SVM Model"
      ],
      "metadata": {
        "id": "j67beL9lwbKU"
      }
    },
    {
      "cell_type": "code",
      "source": [
        "# Function to extract features from an image block\n",
        "def extract_features(image_block):\n",
        "    # image_block = np.array(img_block)\n",
        "    features = []\n",
        "\n",
        "    # Standard deviation (SD)\n",
        "    sd = np.std(image_block)\n",
        "    features.append(sd)\n",
        "\n",
        "    # Quantization\n",
        "    quantized_block = np.floor_divide(image_block, 64).astype(np.uint8)\n",
        "\n",
        "    # Peak in the histogram after quantization (PK)\n",
        "    hist = cv2.calcHist([quantized_block], [0], None, [64], [0, 64])\n",
        "    pk = np.max(hist)\n",
        "    features.append(pk)\n",
        "\n",
        "    # Maximum vote from histogram bins (VH)\n",
        "    hist_bins = cv2.calcHist([quantized_block], [0], None, [32], [0, 64])\n",
        "    vh = np.max(hist_bins)\n",
        "    features.append(vh)\n",
        "\n",
        "    # Entropy (EP)\n",
        "    hist_normalized = hist / np.sum(hist)\n",
        "    entropy = -np.sum(hist_normalized * np.log2(hist_normalized + 1e-7))\n",
        "    features.append(entropy)\n",
        "\n",
        "    # Correlation between adjacent pixels (CP)\n",
        "    # cp = np.mean(np.abs(image_block[:-1, :-1] - image_block[1:, 1:]))\n",
        "    # features.append(cp)\n",
        "\n",
        "    # Smoothness measure (SM)\n",
        "    # sm = np.mean(np.abs(image_block[1:-1, 1:-1] - (image_block[:-2, 1:-1] + image_block[2:, 1:-1] + image_block[1:-1, :-2] + image_block[1:-1, 2:])/4))\n",
        "    # features.append(sm)\n",
        "\n",
        "    return features"
      ],
      "metadata": {
        "id": "dMzu_jeew4G_"
      },
      "execution_count": null,
      "outputs": []
    },
    {
      "cell_type": "code",
      "source": [
        "import cv2\n",
        "import numpy as np\n",
        "from sklearn import svm\n",
        "from sklearn.model_selection import train_test_split\n",
        "from sklearn.metrics import accuracy_score\n",
        "\n",
        "\n",
        "\n",
        "# Load encrypted and non-encrypted image blocks\n",
        "import os\n",
        "from PIL import Image\n",
        "\n",
        "def load_image_blocks(directory):\n",
        "    image_blocks = []\n",
        "    for filename in os.listdir(directory):\n",
        "        # Create the file path\n",
        "        file_path = os.path.join(directory, filename)\n",
        "        # Open the image block using PIL\n",
        "        image_block = Image.open(file_path)\n",
        "        # Convert the image block to numpy array or perform any other required processing\n",
        "        # ...\n",
        "        # Add the image block to the list\n",
        "        image_blocks.append(image_block)\n",
        "    return image_blocks\n",
        "\n",
        "# Specify the directory paths for encrypted and non-encrypted image blocks\n",
        "encrypted_blocks_dir = '/content/drive/MyDrive/DRDO/original image blocks'\n",
        "non_encrypted_blocks_dir = '/content/drive/MyDrive/DRDO/non encrypted image blocks'\n",
        "\n",
        "# Load encrypted image blocks\n",
        "encrypted_image_blocks = load_image_blocks(encrypted_blocks_dir)\n",
        "\n",
        "# Load non-encrypted image blocks\n",
        "non_encrypted_image_blocks = load_image_blocks(non_encrypted_blocks_dir)\n",
        "\n",
        "# Now you have the encrypted and non-encrypted image blocks loaded into memory,\n",
        "# and you can use them for further processing or analysis\n",
        "\n",
        "\n",
        "# reeeeeeeeeeeeeeeeeeeeeeeeeeeeeeeeeeeeeeeeeeeeeeeeeeeeeeeeeeeeeeeeeeeeeeeeeeeeeeeeeeeeeeeeeeeeeeeeeeeeeeeeeeeeeee\n",
        "\n",
        "\n",
        "# Load encrypted and non-encrypted image blocks\n",
        "# encrypted_blocks = np.load('/content/drive/MyDrive/img classification/grayscale images/encrypted_img_blocks/1.jpg_block_0_0.jpg')\n",
        "# non_encrypted_blocks = np.load('/content/drive/MyDrive/img classification/grayscale images/non encrypted image blocks')\n",
        "\n",
        "# Extract features and create feature vectors\n",
        "X_encrypted = np.array([extract_features(block) for block in encrypted_image_blocks])\n",
        "X_non_encrypted = np.array([extract_features(block) for block in non_encrypted_image_blocks])\n",
        "\n",
        "# Create labels\n",
        "y_encrypted = np.ones(len(encrypted_image_blocks))\n",
        "y_non_encrypted = np.zeros(len(non_encrypted_image_blocks))\n",
        "\n",
        "# Combine encrypted and non-encrypted feature vectors and labels\n",
        "X = np.vstack((X_encrypted, X_non_encrypted))\n",
        "y = np.hstack((y_encrypted, y_non_encrypted))\n",
        "\n",
        "# Split the dataset into training and testing sets\n",
        "X_train, X_test, y_train, y_test = train_test_split(X, y, test_size=0.2, random_state=42)\n",
        "\n",
        "# Train SVM model\n",
        "svm_model = svm.SVC(kernel='linear')\n",
        "svm_model.fit(X_train, y_train)\n",
        "\n",
        "# Predict on the testing set\n",
        "y_pred = svm_model.predict(X_test)\n",
        "\n",
        "# Calculate accuracy\n",
        "accuracy = accuracy_score(y_test, y_pred)\n",
        "print(\"Accuracy:\", accuracy)\n",
        "\n",
        "# Save the trained SVM model for future use\n",
        "import pickle\n",
        "with open('svm_model.pkl', 'wb') as f:\n",
        "    pickle.dump(svm_model, f)\n"
      ],
      "metadata": {
        "colab": {
          "base_uri": "https://localhost:8080/"
        },
        "id": "vmaSs0qcwc5F",
        "outputId": "6c7378e3-8bb4-456c-cd45-a74883e07b8a"
      },
      "execution_count": null,
      "outputs": [
        {
          "output_type": "stream",
          "name": "stdout",
          "text": [
            "Accuracy: 0.9985433357611071\n"
          ]
        }
      ]
    },
    {
      "cell_type": "markdown",
      "source": [
        "## Data extraction and image recovery"
      ],
      "metadata": {
        "id": "sKUitQCo6tS3"
      }
    },
    {
      "cell_type": "markdown",
      "source": [
        "Divide the image E into non-overlapping blocks of size S × S pixels. in our case E is merged_image"
      ],
      "metadata": {
        "id": "KnQk03rg-Xqd"
      }
    },
    {
      "cell_type": "markdown",
      "source": [
        "1st save merged_image in new directory called Final_encrypted_image\n"
      ],
      "metadata": {
        "id": "Rn8q5g43-zLV"
      }
    },
    {
      "cell_type": "code",
      "source": [
        "output_directory= '/content/drive/MyDrive/DRDO/AfterEncryption/Final_encrypted_image'\n",
        "\n",
        "output_path = os.path.join(output_directory, \"merged_image.jpg\")\n",
        "cv2.imwrite(output_path, merged_image)\n"
      ],
      "metadata": {
        "id": "7yYWChAb--HO"
      },
      "execution_count": null,
      "outputs": []
    },
    {
      "cell_type": "markdown",
      "source": [
        "Divide the merged image into blocks and will save it into new directory called \"Final Encrypted Image Blocks\""
      ],
      "metadata": {
        "id": "McLNgJWxBA9f"
      }
    },
    {
      "cell_type": "code",
      "source": [
        "import os\n",
        "import numpy as np\n",
        "from PIL import Image\n",
        "\n",
        "# Directory containing the original images\n",
        "AfterEncryption_images_dir = '/content/drive/MyDrive/DRDO/AfterEncryption/Final_encrypted_image'\n",
        "# Directory to save the original image in blocks\n",
        "AfterEncryption_images_blocks_dir = '/content/drive/MyDrive/DRDO/AfterEncryption/Final_encrypted_image_blocks'\n",
        "\n",
        "# Create the original image in blocks directory if it doesn't exist\n",
        "os.makedirs(AfterEncryption_images_blocks_dir, exist_ok=True)\n",
        "\n",
        "# Set the block size (e.g., 9x9)\n",
        "block_size = (9, 9)\n",
        "\n",
        "\n",
        "# Iterate through the original images\n",
        "for filename in os.listdir(AfterEncryption_images_dir):\n",
        "    # Open the original image\n",
        "    image_path = os.path.join(AfterEncryption_images_dir, filename)\n",
        "    original_image = Image.open(image_path)\n",
        "\n",
        "    # Convert the image to grayscale\n",
        "    grayscale_image = original_image.convert('L')\n",
        "\n",
        "    # Split the grayscale image into blocks\n",
        "    image_width, image_height = grayscale_image.size\n",
        "    num_blocks_x = image_width // block_size[0]\n",
        "    num_blocks_y = image_height // block_size[1]\n",
        "\n",
        "    \n",
        "    # save each image block\n",
        "    for i in range(num_blocks_x):\n",
        "        for j in range(num_blocks_y):\n",
        "            # Extract the image block\n",
        "            left = i * block_size[0]\n",
        "            top = j * block_size[1]\n",
        "            right = left + block_size[0]\n",
        "            bottom = top + block_size[1]\n",
        "            image_block = grayscale_image.crop((left, top, right, bottom))\n",
        "\n",
        "            # Encrypt the image block\n",
        "            # encrypted_block = encryption(image_block,4)\n",
        "\n",
        "            # Save the encrypted block with a unique filename\n",
        "            block_filename = f\"{filename}_block_{i}_{j}.jpg\"\n",
        "            block_path = os.path.join(original_image_blocks_dir, block_filename)\n",
        "\n",
        "            image_block.save(block_path)\n",
        "            \n",
        "\n",
        "    print(f\"Img is converted into blocks created for {filename}\")\n"
      ],
      "metadata": {
        "id": "MzvsAvi05n8J"
      },
      "execution_count": null,
      "outputs": []
    },
    {
      "cell_type": "markdown",
      "source": [
        "Find pseudo-random integer sequence R using data hiding key H"
      ],
      "metadata": {
        "id": "K_RS8H1vzHUs"
      }
    },
    {
      "cell_type": "code",
      "source": [
        "# B= len(blocks)\n",
        "def generate_R(data_hiding_key, length):\n",
        "    # Set the seed for the random number generator using the data hiding key\n",
        "    np.random.seed(int.from_bytes(data_hiding_key.encode(), 'big'))\n",
        "    \n",
        "    # Generate the pseudo-random integer sequence R using the random number generator\n",
        "    R = np.random.randint(low=0, high=15, size=length, dtype=np.uint8)\n",
        "    \n",
        "    return R\n",
        "H= 11\n",
        "# calculate the value of B ie number of blocks in merged_image\n",
        "B= len(merged_image)\n",
        "R= generate_R('11', B)    \n",
        "print(B)\n",
        "print(R)"
      ],
      "metadata": {
        "id": "1If3XK2Uqy2y"
      },
      "execution_count": null,
      "outputs": []
    },
    {
      "cell_type": "code",
      "source": [
        "# M,N= merged_image.shape\n",
        "\n",
        "B1= math.floor(M/S) * math.floor(N/S)"
      ],
      "metadata": {
        "id": "py402XUuUavu"
      },
      "execution_count": null,
      "outputs": []
    },
    {
      "cell_type": "markdown",
      "source": [
        "## Decryption"
      ],
      "metadata": {
        "id": "1bGPsniAVBcv"
      }
    },
    {
      "cell_type": "code",
      "source": [
        "def decryption(path, key):\n",
        "\n",
        "  try:\n",
        "    # path=path\n",
        "    # key = 4\n",
        "\n",
        "    fin= open(path,'rb')\n",
        "    imagee= fin.read()\n",
        "    fin.close()\n",
        "    imagee= bytearray(imagee)\n",
        "    for index,values in enumerate(imagee):\n",
        "      imagee[index]= values^ key\n",
        "\n",
        "    fin= open(path, 'wb')\n",
        "    fin.write(imagee)\n",
        "    fin.close() \n",
        "\n",
        "    print(\"Decryption done...\")\n",
        "    # return \n",
        "\n",
        "  except Exception:\n",
        "    print(\"Error caught: \", Exception._name_)  \n"
      ],
      "metadata": {
        "id": "Z2P-K2aVvhXa"
      },
      "execution_count": null,
      "outputs": []
    },
    {
      "cell_type": "markdown",
      "source": [
        "creating E_block_paths1 and 2 "
      ],
      "metadata": {
        "id": "AUNh7QiF5rrK"
      }
    },
    {
      "cell_type": "code",
      "source": [
        "# array of paths of E_blocks\n",
        "import os\n",
        "\n",
        "# Specify the directory path\n",
        "E_blocks1 = '/content/drive/MyDrive/DRDO/forDecryption/E_blocks1'\n",
        "\n",
        "# Initialize an empty list to store the image file paths\n",
        "E_blocks_paths1 = []\n",
        "\n",
        "# Iterate over the files in the directory\n",
        "for filename in os.listdir(E_blocks1):\n",
        "    if filename.endswith('.jpg') or filename.endswith('.png'):\n",
        "        # Construct the file path and append it to the list\n",
        "        image_path = os.path.join(E_blocks1, filename)\n",
        "        E_blocks_paths1.append(image_path)\n"
      ],
      "metadata": {
        "id": "j7554GR55qti"
      },
      "execution_count": null,
      "outputs": []
    },
    {
      "cell_type": "code",
      "source": [
        "# array of paths of E_blocks2\n",
        "import os\n",
        "\n",
        "# Specify the directory path\n",
        "E_blocks2 = '/content/drive/MyDrive/DRDO/forDecryption/E_blocks2'\n",
        "\n",
        "# Initialize an empty list to store the image file paths\n",
        "E_blocks_paths2 = []\n",
        "\n",
        "# Iterate over the files in the directory\n",
        "for filename in os.listdir(E_blocks2):\n",
        "    if filename.endswith('.jpg') or filename.endswith('.png'):\n",
        "        # Construct the file path and append it to the list\n",
        "        image_path = os.path.join(E_blocks2, filename)\n",
        "        E_blocks_paths2.append(image_path)\n"
      ],
      "metadata": {
        "id": "c0WvrLUL5qJW"
      },
      "execution_count": null,
      "outputs": []
    },
    {
      "cell_type": "code",
      "source": [
        "E_blocks_paths2"
      ],
      "metadata": {
        "colab": {
          "base_uri": "https://localhost:8080/"
        },
        "id": "d5bVA_1hcq7B",
        "outputId": "e82db3b5-a775-43e3-dfe1-1cf76ee88039"
      },
      "execution_count": null,
      "outputs": [
        {
          "output_type": "execute_result",
          "data": {
            "text/plain": [
              "['/content/drive/MyDrive/DRDO/forDecryption/E_blocks2/gr.png_block_1_1.jpg',\n",
              " '/content/drive/MyDrive/DRDO/forDecryption/E_blocks2/gr.png_block_0_2.jpg',\n",
              " '/content/drive/MyDrive/DRDO/forDecryption/E_blocks2/gr.png_block_1_0.jpg',\n",
              " '/content/drive/MyDrive/DRDO/forDecryption/E_blocks2/gr.png_block_0_0.jpg',\n",
              " '/content/drive/MyDrive/DRDO/forDecryption/E_blocks2/gr.png_block_0_1.jpg',\n",
              " '/content/drive/MyDrive/DRDO/forDecryption/E_blocks2/gr.png_block_2_0.jpg',\n",
              " '/content/drive/MyDrive/DRDO/forDecryption/E_blocks2/gr.png_block_4_2.jpg',\n",
              " '/content/drive/MyDrive/DRDO/forDecryption/E_blocks2/gr.png_block_3_0.jpg',\n",
              " '/content/drive/MyDrive/DRDO/forDecryption/E_blocks2/gr.png_block_4_0.jpg',\n",
              " '/content/drive/MyDrive/DRDO/forDecryption/E_blocks2/gr.png_block_4_1.jpg',\n",
              " '/content/drive/MyDrive/DRDO/forDecryption/E_blocks2/gr.png_block_3_2.jpg',\n",
              " '/content/drive/MyDrive/DRDO/forDecryption/E_blocks2/gr.png_block_1_2.jpg',\n",
              " '/content/drive/MyDrive/DRDO/forDecryption/E_blocks2/gr.png_block_2_1.jpg',\n",
              " '/content/drive/MyDrive/DRDO/forDecryption/E_blocks2/gr.png_block_3_1.jpg',\n",
              " '/content/drive/MyDrive/DRDO/forDecryption/E_blocks2/gr.png_block_2_2.jpg']"
            ]
          },
          "metadata": {},
          "execution_count": 45
        }
      ]
    },
    {
      "cell_type": "code",
      "source": [
        "for x in range(0, B):\n",
        "  v = R[x] \n",
        "  # C = E[v]\n",
        "  # E_blocks_paths\n",
        "  Cc1= E_blocks_paths[v]\n",
        "  Cc2= E_blocks_paths1[v]\n",
        "  Cc3= E_blocks_paths2[v]\n",
        "\n",
        "  k = 1\n",
        "  # C= C.tolist()\n",
        "  C1 = decryption(Cc1, k1)\n",
        "  C2 = decryption(Cc2, k2) \n",
        "  C3 = decryption(Cc3, k3)\n",
        "  # Classify(C1, C2, C3)  ie. predict which one of these 3 is normal after decryption\n",
        "  c1 = svm_model.predict(C1)\n",
        "  c2= svm_model.predict(C2)\n",
        "  c3= svm_model.predict(C3)\n",
        "  if(c1==0)\n",
        "    G[v]= C1\n",
        "    W[k]= 0\n",
        "    k= k+1\n",
        "  elif(c2==0):\n",
        "    G[v]= C2\n",
        "    W[k]= 1\n",
        "    k= k+1\n",
        "  else:\n",
        "    G[v]= C3\n",
        "\n",
        "return k    \n"
      ],
      "metadata": {
        "id": "H8aV8BQlqyto",
        "colab": {
          "base_uri": "https://localhost:8080/"
        },
        "outputId": "75ca28e8-3691-42b7-9c42-3e39bcba01af"
      },
      "execution_count": null,
      "outputs": [
        {
          "output_type": "stream",
          "name": "stdout",
          "text": [
            "Decryption done...\n",
            "Decryption done...\n",
            "Decryption done...\n",
            "Decryption done...\n",
            "Decryption done...\n",
            "Decryption done...\n",
            "Decryption done...\n",
            "Decryption done...\n",
            "Decryption done...\n",
            "Decryption done...\n",
            "Decryption done...\n",
            "Decryption done...\n",
            "Decryption done...\n",
            "Decryption done...\n",
            "Decryption done...\n",
            "Decryption done...\n",
            "Decryption done...\n",
            "Decryption done...\n",
            "Decryption done...\n",
            "Decryption done...\n",
            "Decryption done...\n",
            "Decryption done...\n",
            "Decryption done...\n",
            "Decryption done...\n",
            "Decryption done...\n",
            "Decryption done...\n",
            "Decryption done...\n"
          ]
        }
      ]
    },
    {
      "cell_type": "markdown",
      "source": [
        "Now Decryption is done"
      ],
      "metadata": {
        "id": "CcWsG6LchdBH"
      }
    },
    {
      "cell_type": "code",
      "source": [
        "\n"
      ],
      "metadata": {
        "id": "LEgfYk1JVD_s"
      },
      "execution_count": null,
      "outputs": []
    }
  ]
}